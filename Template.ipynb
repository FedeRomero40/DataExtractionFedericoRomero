{
  "cells": [
    {
      "cell_type": "markdown",
      "metadata": {
        "id": "view-in-github",
        "colab_type": "text"
      },
      "source": [
        "<a href=\"https://colab.research.google.com/github/FedeRomero40/DataExtractionFedericoRomero/blob/main/Template.ipynb\" target=\"_parent\"><img src=\"https://colab.research.google.com/assets/colab-badge.svg\" alt=\"Open In Colab\"/></a>"
      ]
    },
    {
      "cell_type": "markdown",
      "source": [
        "# Trabajo Practico Fede Romero"
      ],
      "metadata": {
        "id": "C17UkplOEYxT"
      }
    },
    {
      "cell_type": "code",
      "source": [
        "!wget https://www.argentina.gob.ar/sites/default/files/presupuesto_2023_j50.pdf"
      ],
      "metadata": {
        "colab": {
          "base_uri": "https://localhost:8080/"
        },
        "id": "51RWnSGNEb4E",
        "outputId": "05250934-300c-46cc-fa25-dff3f157ca6a"
      },
      "execution_count": 1,
      "outputs": [
        {
          "output_type": "stream",
          "name": "stdout",
          "text": [
            "--2024-10-15 21:30:29--  https://www.argentina.gob.ar/sites/default/files/presupuesto_2023_j50.pdf\n",
            "Resolving www.argentina.gob.ar (www.argentina.gob.ar)... 172.67.75.35, 104.26.5.183, 104.26.4.183, ...\n",
            "Connecting to www.argentina.gob.ar (www.argentina.gob.ar)|172.67.75.35|:443... connected.\n",
            "HTTP request sent, awaiting response... 200 OK\n",
            "Length: 655622 (640K) [application/pdf]\n",
            "Saving to: ‘presupuesto_2023_j50.pdf’\n",
            "\n",
            "presupuesto_2023_j5 100%[===================>] 640.26K  1.45MB/s    in 0.4s    \n",
            "\n",
            "2024-10-15 21:30:31 (1.45 MB/s) - ‘presupuesto_2023_j50.pdf’ saved [655622/655622]\n",
            "\n"
          ]
        }
      ]
    },
    {
      "cell_type": "markdown",
      "source": [
        "Hice x"
      ],
      "metadata": {
        "id": "MFuzeLicEc8U"
      }
    },
    {
      "cell_type": "code",
      "source": [
        "!pip install PyPDF2"
      ],
      "metadata": {
        "id": "lH5aiM24GZn-",
        "outputId": "25a0191c-b922-4d18-a2d9-fdb28fc93507",
        "colab": {
          "base_uri": "https://localhost:8080/"
        }
      },
      "execution_count": 2,
      "outputs": [
        {
          "output_type": "stream",
          "name": "stdout",
          "text": [
            "Collecting PyPDF2\n",
            "  Downloading pypdf2-3.0.1-py3-none-any.whl.metadata (6.8 kB)\n",
            "Downloading pypdf2-3.0.1-py3-none-any.whl (232 kB)\n",
            "\u001b[2K   \u001b[90m━━━━━━━━━━━━━━━━━━━━━━━━━━━━━━━━━━━━━━━━\u001b[0m \u001b[32m232.6/232.6 kB\u001b[0m \u001b[31m5.6 MB/s\u001b[0m eta \u001b[36m0:00:00\u001b[0m\n",
            "\u001b[?25hInstalling collected packages: PyPDF2\n",
            "Successfully installed PyPDF2-3.0.1\n"
          ]
        }
      ]
    }
  ],
  "metadata": {
    "kernelspec": {
      "name": "python3",
      "display_name": "Python 3"
    },
    "language_info": {
      "name": "python"
    },
    "colab": {
      "provenance": [],
      "include_colab_link": true
    }
  },
  "nbformat": 4,
  "nbformat_minor": 0
}